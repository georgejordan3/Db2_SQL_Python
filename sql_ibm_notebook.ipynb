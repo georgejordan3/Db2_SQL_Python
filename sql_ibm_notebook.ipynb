{
 "cells": [
  {
   "cell_type": "markdown",
   "metadata": {},
   "source": [
    "# Analyzing Data with IBM Db2, SQL, and Python\n",
    "## George Jordan\n",
    "*Last update: February 6, 2021*\n"
   ]
  },
  {
   "cell_type": "markdown",
   "metadata": {},
   "source": [
    "I am currently working through the 'IBM Data Science Professional Certificate' through Coursera. The certificate is a nine-course suite, with the fifth course being 'Databases and SQL for Data Science' and the sixth course being 'Data Analysis with Python'. I have recently completed these courses and will use this project to demonstrate my skills in these tools.\n",
    "\n",
    "First, I will provide a brief overview of the queries that I wrote to fulfill the requirements of the assignment (which scored 100%). Then, I will visually display the data by comparing variables via scatterplot. I will use regression analysis to describe the relationships between variables. In doing so, I hope to provide interpretation that might otherwise not be obvious by simply viewing the data within the databases.\n",
    "\n",
    "I believe that data does not speak for itself and requires a storyteller to communicate findings so that stakeholders can make informed decisions with the data. I firmly believe that this work is a waste of time if teams cannot use the work either for lack of interpretation or techincal knowledge. I hope that I can be that bridge to connect the data to those otherwise unable to use it.\n",
    "\n",
    "In this project, I used three separate data sets to gain insight into Chicago's neighborhoods and schools. The data is made available through the city of Chicago's public data portal. For the scope of the project, the crime data has been truncated to around five hundred rows, as opposed to the original which contained around 6.5 million rows."
   ]
  },
  {
   "cell_type": "markdown",
   "metadata": {},
   "source": [
    "1.  <a href=\"https://data.cityofchicago.org/Health-Human-Services/Census-Data-Selected-socioeconomic-indicators-in-C/kn9c-c2s2\">Socioeconomic Indicators in Chicago</a>\n",
    "2.  <a href=\"https://data.cityofchicago.org/Education/Chicago-Public-Schools-Progress-Report-Cards-2011-/9xs2-f89t\">Chicago Public Schools</a>\n",
    "3.  <a href=\"https://data.cityofchicago.org/Public-Safety/Crimes-2001-to-present/ijzp-q8t2\">Chicago Crime Data</a>"
   ]
  },
  {
   "cell_type": "markdown",
   "metadata": {},
   "source": [
    "### Preparation"
   ]
  },
  {
   "cell_type": "code",
   "execution_count": 1,
   "metadata": {},
   "outputs": [],
   "source": [
    "%load_ext sql"
   ]
  },
  {
   "cell_type": "markdown",
   "metadata": {},
   "source": [
    "I connected to Db2 by instantiating an API token which allowed me to run all of my queries through a Jupyter notebook. For the sake of streamlining the project, doing this project through the Jupyter notebooks on Watson Labs allows for all of the IBM technologies to come packaged without having to reinstall each time I run the notebook."
   ]
  },
  {
   "cell_type": "code",
   "execution_count": 2,
   "metadata": {},
   "outputs": [
    {
     "data": {
      "text/plain": [
       "'Connected: tjk69312@BLUDB'"
      ]
     },
     "execution_count": 2,
     "metadata": {},
     "output_type": "execute_result"
    }
   ],
   "source": [
    "%sql ibm_db_sa://tjk69312:mkjv%402qs5xgnc01k@dashdb-txn-sbox-yp-dal09-12.services.dal.bluemix.net:50000/BLUDB"
   ]
  },
  {
   "cell_type": "markdown",
   "metadata": {},
   "source": [
    "In Db2, I have uploaded the .csv values of all three data setsinto the database."
   ]
  },
  {
   "cell_type": "code",
   "execution_count": 3,
   "metadata": {},
   "outputs": [
    {
     "name": "stdout",
     "output_type": "stream",
     "text": [
      " * ibm_db_sa://tjk69312:***@dashdb-txn-sbox-yp-dal09-12.services.dal.bluemix.net:50000/BLUDB\n",
      "Done.\n"
     ]
    },
    {
     "data": {
      "text/html": [
       "<table>\n",
       "    <thead>\n",
       "        <tr>\n",
       "            <th>1</th>\n",
       "        </tr>\n",
       "    </thead>\n",
       "    <tbody>\n",
       "        <tr>\n",
       "            <td>533</td>\n",
       "        </tr>\n",
       "    </tbody>\n",
       "</table>"
      ],
      "text/plain": [
       "[(Decimal('533'),)]"
      ]
     },
     "execution_count": 3,
     "metadata": {},
     "output_type": "execute_result"
    }
   ],
   "source": [
    "# Verifying the connection was established with a simple query\n",
    "%sql select count(*) from CHICAGO_CRIME_DATA"
   ]
  },
  {
   "cell_type": "markdown",
   "metadata": {},
   "source": [
    "### Sample Queries"
   ]
  },
  {
   "cell_type": "markdown",
   "metadata": {},
   "source": [
    "In the next few cells, I will demonstrate some of the queries that I wrote in order to fulfill the requests for the assignment."
   ]
  },
  {
   "cell_type": "markdown",
   "metadata": {},
   "source": [
    "##### List the top 5 Community Areas by average College Enrollment [number of students]"
   ]
  },
  {
   "cell_type": "code",
   "execution_count": 4,
   "metadata": {},
   "outputs": [
    {
     "name": "stdout",
     "output_type": "stream",
     "text": [
      " * ibm_db_sa://tjk69312:***@dashdb-txn-sbox-yp-dal09-12.services.dal.bluemix.net:50000/BLUDB\n",
      "Done.\n"
     ]
    },
    {
     "data": {
      "text/html": [
       "<table>\n",
       "    <thead>\n",
       "        <tr>\n",
       "            <th>community_area_name</th>\n",
       "            <th>average_college_enrollment</th>\n",
       "        </tr>\n",
       "    </thead>\n",
       "    <tbody>\n",
       "        <tr>\n",
       "            <td>ARCHER HEIGHTS</td>\n",
       "            <td>2411.500000</td>\n",
       "        </tr>\n",
       "        <tr>\n",
       "            <td>MONTCLARE</td>\n",
       "            <td>1317.000000</td>\n",
       "        </tr>\n",
       "        <tr>\n",
       "            <td>WEST ELSDON</td>\n",
       "            <td>1233.333333</td>\n",
       "        </tr>\n",
       "        <tr>\n",
       "            <td>BRIGHTON PARK</td>\n",
       "            <td>1205.875000</td>\n",
       "        </tr>\n",
       "        <tr>\n",
       "            <td>BELMONT CRAGIN</td>\n",
       "            <td>1198.833333</td>\n",
       "        </tr>\n",
       "    </tbody>\n",
       "</table>"
      ],
      "text/plain": [
       "[('ARCHER HEIGHTS', Decimal('2411.500000')),\n",
       " ('MONTCLARE', Decimal('1317.000000')),\n",
       " ('WEST ELSDON', Decimal('1233.333333')),\n",
       " ('BRIGHTON PARK', Decimal('1205.875000')),\n",
       " ('BELMONT CRAGIN', Decimal('1198.833333'))]"
      ]
     },
     "execution_count": 4,
     "metadata": {},
     "output_type": "execute_result"
    }
   ],
   "source": [
    "%sql select COMMUNITY_AREA_NAME, avg(COLLEGE_ENROLLMENT) \\\n",
    "as AVERAGE_COLLEGE_ENROLLMENT \\\n",
    "from CHICAGO_PUBLIC_SCHOOLS \\\n",
    "group by COMMUNITY_AREA_NAME \\\n",
    "order by avg(COLLEGE_ENROLLMENT) desc limit 5"
   ]
  },
  {
   "cell_type": "markdown",
   "metadata": {},
   "source": [
    "##### Use a sub-query to determine which Community Area has the least value for school Safety Score?"
   ]
  },
  {
   "cell_type": "code",
   "execution_count": 5,
   "metadata": {},
   "outputs": [
    {
     "name": "stdout",
     "output_type": "stream",
     "text": [
      " * ibm_db_sa://tjk69312:***@dashdb-txn-sbox-yp-dal09-12.services.dal.bluemix.net:50000/BLUDB\n",
      "Done.\n"
     ]
    },
    {
     "data": {
      "text/html": [
       "<table>\n",
       "    <thead>\n",
       "        <tr>\n",
       "            <th>community_area_number</th>\n",
       "            <th>community_area_name</th>\n",
       "            <th>safety_score</th>\n",
       "        </tr>\n",
       "    </thead>\n",
       "    <tbody>\n",
       "        <tr>\n",
       "            <td>40</td>\n",
       "            <td>WASHINGTON PARK</td>\n",
       "            <td>1</td>\n",
       "        </tr>\n",
       "    </tbody>\n",
       "</table>"
      ],
      "text/plain": [
       "[(40, 'WASHINGTON PARK', 1)]"
      ]
     },
     "execution_count": 5,
     "metadata": {},
     "output_type": "execute_result"
    }
   ],
   "source": [
    "%sql select COMMUNITY_AREA_NUMBER, COMMUNITY_AREA_NAME, SAFETY_SCORE \\\n",
    "from CHICAGO_PUBLIC_SCHOOLS \\\n",
    "where SAFETY_SCORE = (select min(SAFETY_SCORE) from CHICAGO_PUBLIC_SCHOOLS)"
   ]
  },
  {
   "cell_type": "markdown",
   "metadata": {},
   "source": [
    "##### Which schools in Community Areas 10 to 15 are healthy school certified?"
   ]
  },
  {
   "cell_type": "code",
   "execution_count": 6,
   "metadata": {},
   "outputs": [
    {
     "name": "stdout",
     "output_type": "stream",
     "text": [
      " * ibm_db_sa://tjk69312:***@dashdb-txn-sbox-yp-dal09-12.services.dal.bluemix.net:50000/BLUDB\n",
      "Done.\n"
     ]
    },
    {
     "data": {
      "text/html": [
       "<table>\n",
       "    <thead>\n",
       "        <tr>\n",
       "            <th>name_of_school</th>\n",
       "            <th>community_area_number</th>\n",
       "        </tr>\n",
       "    </thead>\n",
       "    <tbody>\n",
       "        <tr>\n",
       "            <td>Rufus M Hitch Elementary School</td>\n",
       "            <td>10</td>\n",
       "        </tr>\n",
       "    </tbody>\n",
       "</table>"
      ],
      "text/plain": [
       "[('Rufus M Hitch Elementary School', 10)]"
      ]
     },
     "execution_count": 6,
     "metadata": {},
     "output_type": "execute_result"
    }
   ],
   "source": [
    "%sql select NAME_OF_SCHOOL, COMMUNITY_AREA_NUMBER from CHICAGO_PUBLIC_SCHOOLS \\\n",
    "where COMMUNITY_AREA_NUMBER between 10 and 15 \\\n",
    "and HEALTHY_SCHOOL_CERTIFIED = 'Yes'"
   ]
  },
  {
   "cell_type": "markdown",
   "metadata": {},
   "source": [
    "### Using Pandas Dataframes"
   ]
  },
  {
   "cell_type": "code",
   "execution_count": 7,
   "metadata": {},
   "outputs": [],
   "source": [
    "# Run matplotlib to graph some of the schools on scatter plot\n",
    "# Centered around Community_area, 77 different neighborhoods\n",
    "# From CHICAGO_PUBLIC_SCHOOLS: Safety_Score, Rate_of_Misconduct, College_Enrollment_rate\n",
    "# From CENSUS_DATA: Percent_of_housing_crowded, Perent_of_households_below_poverty, per_capita_income, hardship_index\n",
    "# From CHICAGO_CRIME_DATA: Community"
   ]
  },
  {
   "cell_type": "markdown",
   "metadata": {},
   "source": [
    "I will use the Pandas library to organize the data within the notebook environment. For the visualization of the data, I will be using the Python libraries Matplotlib, Numpy, and Seaborn. Scikit-Learn will be used to form predictive regression curves based on the data."
   ]
  },
  {
   "cell_type": "code",
   "execution_count": 32,
   "metadata": {},
   "outputs": [],
   "source": [
    "import pandas as pd\n",
    "import matplotlib.pyplot as plt\n",
    "import numpy as np\n",
    "import seaborn as sns\n",
    "from sklearn.pipeline import Pipeline\n",
    "from sklearn.preprocessing import StandardScaler,PolynomialFeatures\n",
    "from sklearn.linear_model import LinearRegression\n",
    "%matplotlib inline"
   ]
  },
  {
   "cell_type": "markdown",
   "metadata": {},
   "source": [
    "Then I created an localized instance of the data within the notebook for each data set."
   ]
  },
  {
   "cell_type": "code",
   "execution_count": 9,
   "metadata": {},
   "outputs": [],
   "source": [
    "CENSUS_DATA_local = pd.read_csv('https://cf-courses-data.s3.us.cloud-object-storage.appdomain.cloud/IBMDeveloperSkillsNetwork-DB0201EN-SkillsNetwork/labs/FinalModule_Coursera/data/Census_Data_-_Selected_socioeconomic_indicators_in_Chicago__2008___2012-v2.csv')"
   ]
  },
  {
   "cell_type": "code",
   "execution_count": 10,
   "metadata": {},
   "outputs": [],
   "source": [
    "CHICAGO_PUBLIC_SCHOOLS_local = pd.read_csv('https://cf-courses-data.s3.us.cloud-object-storage.appdomain.cloud/IBMDeveloperSkillsNetwork-DB0201EN-SkillsNetwork/labs/FinalModule_Coursera/data/Chicago_Public_Schools_-_Progress_Report_Cards__2011-2012-v3.csv')"
   ]
  },
  {
   "cell_type": "code",
   "execution_count": 11,
   "metadata": {},
   "outputs": [],
   "source": [
    "CHICAGO_CRIME_DATA_local = pd.read_csv('https://cf-courses-data.s3.us.cloud-object-storage.appdomain.cloud/IBMDeveloperSkillsNetwork-DB0201EN-SkillsNetwork/labs/FinalModule_Coursera/data/Chicago_Crime_Data-v2.csv')"
   ]
  },
  {
   "cell_type": "markdown",
   "metadata": {},
   "source": [
    "To normalize the column names, I used string methods. Making the columns more uniform allows for less headaches down the road. Also, lowercase columns are easier on my eyes."
   ]
  },
  {
   "cell_type": "code",
   "execution_count": 12,
   "metadata": {},
   "outputs": [],
   "source": [
    "CENSUS_DATA_local.columns = CENSUS_DATA_local.columns.str.replace(\" \", \"_\")\n",
    "CENSUS_DATA_local.columns = CENSUS_DATA_local.columns.str.lower()\n",
    "CHICAGO_PUBLIC_SCHOOLS_local.columns = CHICAGO_PUBLIC_SCHOOLS_local.columns.str.replace(\" \", \"_\")\n",
    "CHICAGO_PUBLIC_SCHOOLS_local.columns = CHICAGO_PUBLIC_SCHOOLS_local.columns.str.replace(\"%\", \"\")\n",
    "CHICAGO_PUBLIC_SCHOOLS_local.columns = CHICAGO_PUBLIC_SCHOOLS_local.columns.str.replace(\",\", \"\")\n",
    "CHICAGO_PUBLIC_SCHOOLS_local.columns = CHICAGO_PUBLIC_SCHOOLS_local.columns.str.lower()\n",
    "CHICAGO_CRIME_DATA_local.columns = CHICAGO_CRIME_DATA_local.columns.str.replace(\" \", \"_\")\n",
    "CHICAGO_CRIME_DATA_local.columns = CHICAGO_CRIME_DATA_local.columns.str.lower()"
   ]
  },
  {
   "cell_type": "markdown",
   "metadata": {},
   "source": [
    "To simplify the code moving forward, I decided to shorten the names when creating Pandas dataframes."
   ]
  },
  {
   "cell_type": "code",
   "execution_count": 13,
   "metadata": {},
   "outputs": [],
   "source": [
    "df1 = pd.DataFrame(data=CENSUS_DATA_local)\n",
    "df2 = pd.DataFrame(data=CHICAGO_PUBLIC_SCHOOLS_local)\n",
    "df3 = pd.DataFrame(data=CHICAGO_CRIME_DATA_local)"
   ]
  },
  {
   "cell_type": "markdown",
   "metadata": {},
   "source": [
    "Now that the dataframes are prepared and more easily accessed through localized instances within Pandas dataframes, listing out the column names here will allow comparisons across separate data frames."
   ]
  },
  {
   "cell_type": "code",
   "execution_count": 14,
   "metadata": {},
   "outputs": [
    {
     "name": "stdout",
     "output_type": "stream",
     "text": [
      "Census Data (df1) Columns\n",
      "['community_area_number', 'community_area_name', 'percent_of_housing_crowded', 'percent_households_below_poverty', 'percent_aged_16+_unemployed', 'percent_aged_25+_without_high_school_diploma', 'percent_aged_under_18_or_over_64', 'per_capita_income_', 'hardship_index']\n"
     ]
    }
   ],
   "source": [
    "print(\"Census Data (df1) Columns\")\n",
    "print(df1.columns.tolist())"
   ]
  },
  {
   "cell_type": "code",
   "execution_count": 15,
   "metadata": {},
   "outputs": [
    {
     "name": "stdout",
     "output_type": "stream",
     "text": [
      "Chicago Public Schools (df2) Columns\n",
      "['school_id', 'name_of_school', 'elementary_middle_or_high_school', 'street_address', 'city', 'state', 'zip_code', 'phone_number', 'link_', 'network_manager', 'collaborative_name', 'adequate_yearly_progress_made?_', 'track_schedule', 'cps_performance_policy_status', 'cps_performance_policy_level', 'healthy_school_certified', 'safety_icon_', 'safety_score', 'family_involvement_icon', 'family_involvement_score', 'environment_icon_', 'environment_score', 'instruction_icon_', 'instruction_score', 'leaders_icon_', 'leaders_score_', 'teachers_icon_', 'teachers_score', 'parent_engagement_icon_', 'parent_engagement_score', 'parent_environment_icon', 'parent_environment_score', 'average_student_attendance', 'rate_of_misconducts_(per_100_students)_', 'average_teacher_attendance', 'individualized_education_program_compliance_rate_', 'pk-2_literacy_', 'pk-2_math_', 'gr3-5_grade_level_math_', 'gr3-5_grade_level_read__', 'gr3-5_keep_pace_read_', 'gr3-5_keep_pace_math_', 'gr6-8_grade_level_math_', 'gr6-8_grade_level_read_', 'gr6-8_keep_pace_math', 'gr6-8_keep_pace_read_', 'gr-8_explore_math_', 'gr-8_explore_read_', 'isat_exceeding_math_', 'isat_exceeding_reading__', 'isat_value_add_math', 'isat_value_add_read', 'isat_value_add_color_math', 'isat_value_add_color_read', 'students_taking__algebra_', 'students_passing__algebra_', '9th_grade_explore_(2009)_', '9th_grade_explore_(2010)_', '10th_grade_plan_(2009)_', '10th_grade_plan_(2010)_', 'net_change_explore_and_plan', '11th_grade_average_act_(2011)_', 'net_change_plan_and_act', 'college_eligibility_', 'graduation_rate_', 'college_enrollment_rate_', 'college_enrollment', 'general_services_route_', 'freshman_on_track_rate_', 'x_coordinate', 'y_coordinate', 'latitude', 'longitude', 'community_area_number', 'community_area_name', 'ward', 'police_district', 'location']\n"
     ]
    }
   ],
   "source": [
    "print(\"Chicago Public Schools (df2) Columns\")\n",
    "print(df2.columns.tolist())"
   ]
  },
  {
   "cell_type": "code",
   "execution_count": 16,
   "metadata": {},
   "outputs": [
    {
     "name": "stdout",
     "output_type": "stream",
     "text": [
      "Chicago Crime Data (df3) Columns\n",
      "['id', 'case_number', 'date', 'block', 'iucr', 'primary_type', 'description', 'location_description', 'arrest', 'domestic', 'beat', 'district', 'ward', 'community_area_number', 'fbicode', 'x_coordinate', 'y_coordinate', 'year', 'updatedon', 'latitude', 'longitude', 'location']\n"
     ]
    }
   ],
   "source": [
    "print(\"Chicago Crime Data (df3) Columns\")\n",
    "print(df3.columns.tolist())"
   ]
  },
  {
   "cell_type": "markdown",
   "metadata": {},
   "source": [
    "I only wish to look at a subset of the columns from all of the dataframes, so I will used the .copy() method to create abridged dataframes."
   ]
  },
  {
   "cell_type": "code",
   "execution_count": 74,
   "metadata": {},
   "outputs": [
    {
     "data": {
      "text/html": [
       "<div>\n",
       "<style scoped>\n",
       "    .dataframe tbody tr th:only-of-type {\n",
       "        vertical-align: middle;\n",
       "    }\n",
       "\n",
       "    .dataframe tbody tr th {\n",
       "        vertical-align: top;\n",
       "    }\n",
       "\n",
       "    .dataframe thead th {\n",
       "        text-align: right;\n",
       "    }\n",
       "</style>\n",
       "<table border=\"1\" class=\"dataframe\">\n",
       "  <thead>\n",
       "    <tr style=\"text-align: right;\">\n",
       "      <th></th>\n",
       "      <th>community_area_name</th>\n",
       "      <th>percent_of_housing_crowded</th>\n",
       "      <th>percent_households_below_poverty</th>\n",
       "      <th>per_capita_income_</th>\n",
       "      <th>hardship_index</th>\n",
       "    </tr>\n",
       "    <tr>\n",
       "      <th>community_area_number</th>\n",
       "      <th></th>\n",
       "      <th></th>\n",
       "      <th></th>\n",
       "      <th></th>\n",
       "      <th></th>\n",
       "    </tr>\n",
       "  </thead>\n",
       "  <tbody>\n",
       "    <tr>\n",
       "      <th>1.0</th>\n",
       "      <td>Rogers Park</td>\n",
       "      <td>7.7</td>\n",
       "      <td>23.6</td>\n",
       "      <td>23939</td>\n",
       "      <td>39.0</td>\n",
       "    </tr>\n",
       "    <tr>\n",
       "      <th>2.0</th>\n",
       "      <td>West Ridge</td>\n",
       "      <td>7.8</td>\n",
       "      <td>17.2</td>\n",
       "      <td>23040</td>\n",
       "      <td>46.0</td>\n",
       "    </tr>\n",
       "    <tr>\n",
       "      <th>3.0</th>\n",
       "      <td>Uptown</td>\n",
       "      <td>3.8</td>\n",
       "      <td>24.0</td>\n",
       "      <td>35787</td>\n",
       "      <td>20.0</td>\n",
       "    </tr>\n",
       "    <tr>\n",
       "      <th>4.0</th>\n",
       "      <td>Lincoln Square</td>\n",
       "      <td>3.4</td>\n",
       "      <td>10.9</td>\n",
       "      <td>37524</td>\n",
       "      <td>17.0</td>\n",
       "    </tr>\n",
       "    <tr>\n",
       "      <th>5.0</th>\n",
       "      <td>North Center</td>\n",
       "      <td>0.3</td>\n",
       "      <td>7.5</td>\n",
       "      <td>57123</td>\n",
       "      <td>6.0</td>\n",
       "    </tr>\n",
       "    <tr>\n",
       "      <th>...</th>\n",
       "      <td>...</td>\n",
       "      <td>...</td>\n",
       "      <td>...</td>\n",
       "      <td>...</td>\n",
       "      <td>...</td>\n",
       "    </tr>\n",
       "    <tr>\n",
       "      <th>73.0</th>\n",
       "      <td>Washington Height</td>\n",
       "      <td>1.1</td>\n",
       "      <td>16.9</td>\n",
       "      <td>19713</td>\n",
       "      <td>48.0</td>\n",
       "    </tr>\n",
       "    <tr>\n",
       "      <th>74.0</th>\n",
       "      <td>Mount Greenwood</td>\n",
       "      <td>1.0</td>\n",
       "      <td>3.4</td>\n",
       "      <td>34381</td>\n",
       "      <td>16.0</td>\n",
       "    </tr>\n",
       "    <tr>\n",
       "      <th>75.0</th>\n",
       "      <td>Morgan Park</td>\n",
       "      <td>0.8</td>\n",
       "      <td>13.2</td>\n",
       "      <td>27149</td>\n",
       "      <td>30.0</td>\n",
       "    </tr>\n",
       "    <tr>\n",
       "      <th>76.0</th>\n",
       "      <td>O'Hare</td>\n",
       "      <td>3.6</td>\n",
       "      <td>15.4</td>\n",
       "      <td>25828</td>\n",
       "      <td>24.0</td>\n",
       "    </tr>\n",
       "    <tr>\n",
       "      <th>77.0</th>\n",
       "      <td>Edgewater</td>\n",
       "      <td>4.1</td>\n",
       "      <td>18.2</td>\n",
       "      <td>33385</td>\n",
       "      <td>19.0</td>\n",
       "    </tr>\n",
       "  </tbody>\n",
       "</table>\n",
       "<p>77 rows × 5 columns</p>\n",
       "</div>"
      ],
      "text/plain": [
       "                      community_area_name  percent_of_housing_crowded  \\\n",
       "community_area_number                                                   \n",
       "1.0                           Rogers Park                         7.7   \n",
       "2.0                            West Ridge                         7.8   \n",
       "3.0                                Uptown                         3.8   \n",
       "4.0                        Lincoln Square                         3.4   \n",
       "5.0                          North Center                         0.3   \n",
       "...                                   ...                         ...   \n",
       "73.0                    Washington Height                         1.1   \n",
       "74.0                      Mount Greenwood                         1.0   \n",
       "75.0                          Morgan Park                         0.8   \n",
       "76.0                               O'Hare                         3.6   \n",
       "77.0                            Edgewater                         4.1   \n",
       "\n",
       "                       percent_households_below_poverty  per_capita_income_  \\\n",
       "community_area_number                                                         \n",
       "1.0                                                23.6               23939   \n",
       "2.0                                                17.2               23040   \n",
       "3.0                                                24.0               35787   \n",
       "4.0                                                10.9               37524   \n",
       "5.0                                                 7.5               57123   \n",
       "...                                                 ...                 ...   \n",
       "73.0                                               16.9               19713   \n",
       "74.0                                                3.4               34381   \n",
       "75.0                                               13.2               27149   \n",
       "76.0                                               15.4               25828   \n",
       "77.0                                               18.2               33385   \n",
       "\n",
       "                       hardship_index  \n",
       "community_area_number                  \n",
       "1.0                              39.0  \n",
       "2.0                              46.0  \n",
       "3.0                              20.0  \n",
       "4.0                              17.0  \n",
       "5.0                               6.0  \n",
       "...                               ...  \n",
       "73.0                             48.0  \n",
       "74.0                             16.0  \n",
       "75.0                             30.0  \n",
       "76.0                             24.0  \n",
       "77.0                             19.0  \n",
       "\n",
       "[77 rows x 5 columns]"
      ]
     },
     "execution_count": 74,
     "metadata": {},
     "output_type": "execute_result"
    }
   ],
   "source": [
    "census = df1[['community_area_number', 'community_area_name', 'percent_of_housing_crowded', 'percent_households_below_poverty', 'per_capita_income_', 'hardship_index']].copy()\n",
    "census = census.set_index('community_area_number')\n",
    "census = census.drop(census.tail(1).index) #Removes the last row which was an average of all the community areas\n",
    "census"
   ]
  },
  {
   "cell_type": "code",
   "execution_count": 75,
   "metadata": {},
   "outputs": [
    {
     "data": {
      "text/html": [
       "<div>\n",
       "<style scoped>\n",
       "    .dataframe tbody tr th:only-of-type {\n",
       "        vertical-align: middle;\n",
       "    }\n",
       "\n",
       "    .dataframe tbody tr th {\n",
       "        vertical-align: top;\n",
       "    }\n",
       "\n",
       "    .dataframe thead th {\n",
       "        text-align: right;\n",
       "    }\n",
       "</style>\n",
       "<table border=\"1\" class=\"dataframe\">\n",
       "  <thead>\n",
       "    <tr style=\"text-align: right;\">\n",
       "      <th></th>\n",
       "      <th>name_of_school</th>\n",
       "      <th>community_area_number</th>\n",
       "      <th>community_area_name</th>\n",
       "      <th>police_district</th>\n",
       "      <th>college_enrollment</th>\n",
       "      <th>safety_score</th>\n",
       "      <th>family_involvement_score</th>\n",
       "    </tr>\n",
       "  </thead>\n",
       "  <tbody>\n",
       "    <tr>\n",
       "      <th>0</th>\n",
       "      <td>Abraham Lincoln Elementary School</td>\n",
       "      <td>7</td>\n",
       "      <td>LINCOLN PARK</td>\n",
       "      <td>18</td>\n",
       "      <td>813</td>\n",
       "      <td>99.0</td>\n",
       "      <td>99</td>\n",
       "    </tr>\n",
       "    <tr>\n",
       "      <th>1</th>\n",
       "      <td>Adam Clayton Powell Paideia Community Academy ...</td>\n",
       "      <td>43</td>\n",
       "      <td>SOUTH SHORE</td>\n",
       "      <td>4</td>\n",
       "      <td>521</td>\n",
       "      <td>54.0</td>\n",
       "      <td>66</td>\n",
       "    </tr>\n",
       "    <tr>\n",
       "      <th>2</th>\n",
       "      <td>Adlai E Stevenson Elementary School</td>\n",
       "      <td>70</td>\n",
       "      <td>ASHBURN</td>\n",
       "      <td>8</td>\n",
       "      <td>1324</td>\n",
       "      <td>61.0</td>\n",
       "      <td>NDA</td>\n",
       "    </tr>\n",
       "    <tr>\n",
       "      <th>3</th>\n",
       "      <td>Agustin Lara Elementary Academy</td>\n",
       "      <td>61</td>\n",
       "      <td>NEW CITY</td>\n",
       "      <td>9</td>\n",
       "      <td>556</td>\n",
       "      <td>56.0</td>\n",
       "      <td>44</td>\n",
       "    </tr>\n",
       "    <tr>\n",
       "      <th>4</th>\n",
       "      <td>Air Force Academy High School</td>\n",
       "      <td>34</td>\n",
       "      <td>ARMOUR SQUARE</td>\n",
       "      <td>9</td>\n",
       "      <td>302</td>\n",
       "      <td>49.0</td>\n",
       "      <td>60</td>\n",
       "    </tr>\n",
       "    <tr>\n",
       "      <th>...</th>\n",
       "      <td>...</td>\n",
       "      <td>...</td>\n",
       "      <td>...</td>\n",
       "      <td>...</td>\n",
       "      <td>...</td>\n",
       "      <td>...</td>\n",
       "      <td>...</td>\n",
       "    </tr>\n",
       "    <tr>\n",
       "      <th>561</th>\n",
       "      <td>William T Sherman Elementary School</td>\n",
       "      <td>61</td>\n",
       "      <td>NEW CITY</td>\n",
       "      <td>9</td>\n",
       "      <td>462</td>\n",
       "      <td>32.0</td>\n",
       "      <td>NDA</td>\n",
       "    </tr>\n",
       "    <tr>\n",
       "      <th>562</th>\n",
       "      <td>William W Carter Elementary School</td>\n",
       "      <td>40</td>\n",
       "      <td>WASHINGTON PARK</td>\n",
       "      <td>2</td>\n",
       "      <td>371</td>\n",
       "      <td>13.0</td>\n",
       "      <td>49</td>\n",
       "    </tr>\n",
       "    <tr>\n",
       "      <th>563</th>\n",
       "      <td>Wolfgang A Mozart Elementary School</td>\n",
       "      <td>22</td>\n",
       "      <td>LOGAN SQUARE</td>\n",
       "      <td>25</td>\n",
       "      <td>748</td>\n",
       "      <td>41.0</td>\n",
       "      <td>NDA</td>\n",
       "    </tr>\n",
       "    <tr>\n",
       "      <th>564</th>\n",
       "      <td>Woodlawn Community Elementary School</td>\n",
       "      <td>42</td>\n",
       "      <td>WOODLAWN</td>\n",
       "      <td>3</td>\n",
       "      <td>238</td>\n",
       "      <td>70.0</td>\n",
       "      <td>NDA</td>\n",
       "    </tr>\n",
       "    <tr>\n",
       "      <th>565</th>\n",
       "      <td>World Language Academy High School</td>\n",
       "      <td>30</td>\n",
       "      <td>SOUTH LAWNDALE</td>\n",
       "      <td>10</td>\n",
       "      <td>382</td>\n",
       "      <td>51.0</td>\n",
       "      <td>33</td>\n",
       "    </tr>\n",
       "  </tbody>\n",
       "</table>\n",
       "<p>566 rows × 7 columns</p>\n",
       "</div>"
      ],
      "text/plain": [
       "                                        name_of_school  community_area_number  \\\n",
       "0                    Abraham Lincoln Elementary School                      7   \n",
       "1    Adam Clayton Powell Paideia Community Academy ...                     43   \n",
       "2                  Adlai E Stevenson Elementary School                     70   \n",
       "3                      Agustin Lara Elementary Academy                     61   \n",
       "4                        Air Force Academy High School                     34   \n",
       "..                                                 ...                    ...   \n",
       "561                William T Sherman Elementary School                     61   \n",
       "562                 William W Carter Elementary School                     40   \n",
       "563                Wolfgang A Mozart Elementary School                     22   \n",
       "564               Woodlawn Community Elementary School                     42   \n",
       "565                 World Language Academy High School                     30   \n",
       "\n",
       "    community_area_name  police_district  college_enrollment  safety_score  \\\n",
       "0          LINCOLN PARK               18                 813          99.0   \n",
       "1           SOUTH SHORE                4                 521          54.0   \n",
       "2               ASHBURN                8                1324          61.0   \n",
       "3              NEW CITY                9                 556          56.0   \n",
       "4         ARMOUR SQUARE                9                 302          49.0   \n",
       "..                  ...              ...                 ...           ...   \n",
       "561            NEW CITY                9                 462          32.0   \n",
       "562     WASHINGTON PARK                2                 371          13.0   \n",
       "563        LOGAN SQUARE               25                 748          41.0   \n",
       "564            WOODLAWN                3                 238          70.0   \n",
       "565      SOUTH LAWNDALE               10                 382          51.0   \n",
       "\n",
       "    family_involvement_score  \n",
       "0                         99  \n",
       "1                         66  \n",
       "2                        NDA  \n",
       "3                         44  \n",
       "4                         60  \n",
       "..                       ...  \n",
       "561                      NDA  \n",
       "562                       49  \n",
       "563                      NDA  \n",
       "564                      NDA  \n",
       "565                       33  \n",
       "\n",
       "[566 rows x 7 columns]"
      ]
     },
     "execution_count": 75,
     "metadata": {},
     "output_type": "execute_result"
    }
   ],
   "source": [
    "schools = df2[['name_of_school', 'community_area_number', 'community_area_name', 'police_district', 'college_enrollment', 'safety_score', 'family_involvement_score']].copy()\n",
    "schools"
   ]
  },
  {
   "cell_type": "code",
   "execution_count": 76,
   "metadata": {},
   "outputs": [
    {
     "data": {
      "text/html": [
       "<div>\n",
       "<style scoped>\n",
       "    .dataframe tbody tr th:only-of-type {\n",
       "        vertical-align: middle;\n",
       "    }\n",
       "\n",
       "    .dataframe tbody tr th {\n",
       "        vertical-align: top;\n",
       "    }\n",
       "\n",
       "    .dataframe thead th {\n",
       "        text-align: right;\n",
       "    }\n",
       "</style>\n",
       "<table border=\"1\" class=\"dataframe\">\n",
       "  <thead>\n",
       "    <tr style=\"text-align: right;\">\n",
       "      <th></th>\n",
       "      <th>community_area_number</th>\n",
       "      <th>Sum of Crime Reports</th>\n",
       "    </tr>\n",
       "  </thead>\n",
       "  <tbody>\n",
       "    <tr>\n",
       "      <th>0</th>\n",
       "      <td>25.0</td>\n",
       "      <td>43</td>\n",
       "    </tr>\n",
       "    <tr>\n",
       "      <th>1</th>\n",
       "      <td>23.0</td>\n",
       "      <td>22</td>\n",
       "    </tr>\n",
       "    <tr>\n",
       "      <th>2</th>\n",
       "      <td>68.0</td>\n",
       "      <td>21</td>\n",
       "    </tr>\n",
       "    <tr>\n",
       "      <th>3</th>\n",
       "      <td>29.0</td>\n",
       "      <td>16</td>\n",
       "    </tr>\n",
       "    <tr>\n",
       "      <th>4</th>\n",
       "      <td>28.0</td>\n",
       "      <td>16</td>\n",
       "    </tr>\n",
       "    <tr>\n",
       "      <th>...</th>\n",
       "      <td>...</td>\n",
       "      <td>...</td>\n",
       "    </tr>\n",
       "    <tr>\n",
       "      <th>65</th>\n",
       "      <td>12.0</td>\n",
       "      <td>1</td>\n",
       "    </tr>\n",
       "    <tr>\n",
       "      <th>66</th>\n",
       "      <td>55.0</td>\n",
       "      <td>1</td>\n",
       "    </tr>\n",
       "    <tr>\n",
       "      <th>67</th>\n",
       "      <td>47.0</td>\n",
       "      <td>1</td>\n",
       "    </tr>\n",
       "    <tr>\n",
       "      <th>68</th>\n",
       "      <td>75.0</td>\n",
       "      <td>1</td>\n",
       "    </tr>\n",
       "    <tr>\n",
       "      <th>69</th>\n",
       "      <td>33.0</td>\n",
       "      <td>1</td>\n",
       "    </tr>\n",
       "  </tbody>\n",
       "</table>\n",
       "<p>70 rows × 2 columns</p>\n",
       "</div>"
      ],
      "text/plain": [
       "    community_area_number  Sum of Crime Reports\n",
       "0                    25.0                    43\n",
       "1                    23.0                    22\n",
       "2                    68.0                    21\n",
       "3                    29.0                    16\n",
       "4                    28.0                    16\n",
       "..                    ...                   ...\n",
       "65                   12.0                     1\n",
       "66                   55.0                     1\n",
       "67                   47.0                     1\n",
       "68                   75.0                     1\n",
       "69                   33.0                     1\n",
       "\n",
       "[70 rows x 2 columns]"
      ]
     },
     "execution_count": 76,
     "metadata": {},
     "output_type": "execute_result"
    }
   ],
   "source": [
    "crime = df3[['id', 'case_number', 'primary_type', 'community_area_number', 'district']].copy()\n",
    "crime = crime.set_index('community_area_number')\n",
    "crime = crime.groupby('community_area_number').size().sort_values(ascending=False).reset_index(name='Sum of Crime Reports')\n",
    "crime"
   ]
  },
  {
   "cell_type": "markdown",
   "metadata": {},
   "source": [
    "### Regression and Correlation Analysis"
   ]
  },
  {
   "cell_type": "markdown",
   "metadata": {},
   "source": [
    "Now I will use some plotting tools to see if there is a correlation between certain features of these community areas."
   ]
  },
  {
   "cell_type": "code",
   "execution_count": 77,
   "metadata": {},
   "outputs": [
    {
     "data": {
      "text/plain": [
       "<AxesSubplot:xlabel='per_capita_income_', ylabel='hardship_index'>"
      ]
     },
     "execution_count": 77,
     "metadata": {},
     "output_type": "execute_result"
    },
    {
     "data": {
      "image/png": "[encoded data removed]",
      "text/plain": [
       "<Figure size 432x288 with 1 Axes>"
      ]
     },
     "metadata": {
      "needs_background": "light"
     },
     "output_type": "display_data"
    }
   ],
   "source": [
    "sns.regplot(x = \"per_capita_income_\", y = \"hardship_index\", data = census)"
   ]
  },
  {
   "cell_type": "markdown",
   "metadata": {},
   "source": [
    "It's a pretty clear relationship shown that as per capita income increases, measure of hardship decreases. We can also use the \"corr\" method in pandas to see how correlated the other measures are to the hardship index."
   ]
  },
  {
   "cell_type": "code",
   "execution_count": 78,
   "metadata": {},
   "outputs": [
    {
     "data": {
      "text/plain": [
       "per_capita_income_                 -0.849167\n",
       "percent_of_housing_crowded          0.649574\n",
       "percent_households_below_poverty    0.803267\n",
       "hardship_index                      1.000000\n",
       "Name: hardship_index, dtype: float64"
      ]
     },
     "execution_count": 78,
     "metadata": {},
     "output_type": "execute_result"
    }
   ],
   "source": [
    "census.corr()['hardship_index'].sort_values()"
   ]
  },
  {
   "cell_type": "code",
   "execution_count": 79,
   "metadata": {},
   "outputs": [
    {
     "data": {
      "text/plain": [
       "community_area_number   -0.375084\n",
       "college_enrollment       0.089813\n",
       "police_district          0.306982\n",
       "safety_score             1.000000\n",
       "Name: safety_score, dtype: float64"
      ]
     },
     "execution_count": 79,
     "metadata": {},
     "output_type": "execute_result"
    }
   ],
   "source": [
    "schools.corr()['safety_score'].sort_values()"
   ]
  },
  {
   "cell_type": "markdown",
   "metadata": {},
   "source": [
    "The census data seems to have the most correlative data for the dependent variable 'hardship_index', so it is the best candidate to construct a predictive model. Using Scikit-Learn, I will split the data into two sets. The training set will be used to train the model and the test set will be used to test the accuracy of the model. I will set the test set at 15% of the total data samples so that 85% will go towards training the model."
   ]
  },
  {
   "cell_type": "code",
   "execution_count": 83,
   "metadata": {},
   "outputs": [],
   "source": [
    "from sklearn.model_selection import train_test_split"
   ]
  },
  {
   "cell_type": "code",
   "execution_count": 84,
   "metadata": {},
   "outputs": [
    {
     "name": "stdout",
     "output_type": "stream",
     "text": [
      "number of test samples: 12\n",
      "number of training samples: 65\n"
     ]
    }
   ],
   "source": [
    "features =['percent_of_housing_crowded', 'percent_households_below_poverty', 'per_capita_income_']    \n",
    "X = census[features]\n",
    "Y = census['hardship_index']\n",
    "\n",
    "x_train, x_test, y_train, y_test = train_test_split(X, Y, test_size=0.15, random_state=1)\n",
    "\n",
    "\n",
    "print(\"number of test samples:\", x_test.shape[0])\n",
    "print(\"number of training samples:\",x_train.shape[0])"
   ]
  },
  {
   "cell_type": "code",
   "execution_count": 85,
   "metadata": {},
   "outputs": [],
   "source": [
    "from sklearn.linear_model import LinearRegression"
   ]
  },
  {
   "cell_type": "code",
   "execution_count": 89,
   "metadata": {},
   "outputs": [
    {
     "data": {
      "text/plain": [
       "0.9640365972322784"
      ]
     },
     "execution_count": 89,
     "metadata": {},
     "output_type": "execute_result"
    }
   ],
   "source": [
    "censusReg = LinearRegression()\n",
    "censusReg.fit(x_train, y_train)\n",
    "censusReg.score(x_test, y_test)"
   ]
  },
  {
   "cell_type": "markdown",
   "metadata": {},
   "source": [
    "Our model has fit the test data with an R-squared value of .964, which means our model has predicted the variability of the test data with an accuracy of roughly 96.4%."
   ]
  },
  {
   "cell_type": "code",
   "execution_count": 91,
   "metadata": {},
   "outputs": [
    {
     "ename": "AttributeError",
     "evalue": "'LinearRegression' object has no attribute 'show'",
     "output_type": "error",
     "traceback": [
      "\u001b[0;31m---------------------------------------------------------------------------\u001b[0m",
      "\u001b[0;31mAttributeError\u001b[0m                            Traceback (most recent call last)",
      "\u001b[0;32m<ipython-input-91-6d92897763ac>\u001b[0m in \u001b[0;36m<module>\u001b[0;34m\u001b[0m\n\u001b[0;32m----> 1\u001b[0;31m \u001b[0mcensusReg\u001b[0m\u001b[0;34m.\u001b[0m\u001b[0mshow\u001b[0m\u001b[0;34m\u001b[0m\u001b[0;34m\u001b[0m\u001b[0m\n\u001b[0m",
      "\u001b[0;31mAttributeError\u001b[0m: 'LinearRegression' object has no attribute 'show'"
     ]
    }
   ],
   "source": []
  },
  {
   "cell_type": "code",
   "execution_count": null,
   "metadata": {},
   "outputs": [],
   "source": []
  }
 ],
 "metadata": {
  "kernelspec": {
   "display_name": "Python",
   "language": "python",
   "name": "conda-env-python-py"
  },
  "language_info": {
   "codemirror_mode": {
    "name": "ipython",
    "version": 3
   },
   "file_extension": ".py",
   "mimetype": "text/x-python",
   "name": "python",
   "nbconvert_exporter": "python",
   "pygments_lexer": "ipython3",
   "version": "3.6.12"
  }
 },
 "nbformat": 4,
 "nbformat_minor": 4
}
