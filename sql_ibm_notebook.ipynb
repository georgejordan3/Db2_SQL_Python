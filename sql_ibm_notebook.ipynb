{
 "cells": [
  {
   "cell_type": "markdown",
   "metadata": {},
   "source": [
    "# Analyzing Data with IBM Db2, SQL, and Python\n",
    "## George Jordan\n",
    "*Last update: January 13, 2021*\n"
   ]
  },
  {
   "cell_type": "markdown",
   "metadata": {},
   "source": [
    "I am currently working through the 'IBM Data Science Professional Certificate' through Coursera. The certificate is a nine-course suite, with the fifth course being 'Databases and SQL for Data Science'. I have recently completed this course and will use the work here to demonstrate my skills in these tools.\n",
    "\n",
    "First, I will provide a brief overview of the queries that I wrote to fulfill the requirements of the assignment (which scored 100%). Then, I will visually display the data by comparing variables via scatterplot. I will use regression analysis to describe the relationships between variables. In doing so, I hope to provide interpretation that might otherwise not be obvious by simply viewing the data within the databases.\n",
    "\n",
    "I believe that data does not speak for itself and requires a storyteller to communicate findings so that stakeholders can make informed decisions with the data. I firmly believe that this work is a waste of time if teams cannot use the work either for lack of interpretation or techincal knowledge. I hope that I can be that bridge to connect the data to those otherwise unable to use it.\n",
    "\n",
    "In this project, I used three separate data sets to gain insight into Chicago's neighborhoods and schools. The data is made available through the city of Chicago's public data portal. For the scope of the project, the crime data has been truncated to around five hundred rows, as opposed to the original which contained around 6.5 million rows."
   ]
  },
  {
   "cell_type": "markdown",
   "metadata": {},
   "source": [
    "1.  <a href=\"https://data.cityofchicago.org/Health-Human-Services/Census-Data-Selected-socioeconomic-indicators-in-C/kn9c-c2s2\">Socioeconomic Indicators in Chicago</a>\n",
    "2.  <a href=\"https://data.cityofchicago.org/Education/Chicago-Public-Schools-Progress-Report-Cards-2011-/9xs2-f89t\">Chicago Public Schools</a>\n",
    "3.  <a href=\"https://data.cityofchicago.org/Public-Safety/Crimes-2001-to-present/ijzp-q8t2\">Chicago Crime Data</a>"
   ]
  },
  {
   "cell_type": "markdown",
   "metadata": {},
   "source": [
    "### Preparation"
   ]
  },
  {
   "cell_type": "code",
   "execution_count": 1,
   "metadata": {},
   "outputs": [],
   "source": [
    "%load_ext sql"
   ]
  },
  {
   "cell_type": "markdown",
   "metadata": {},
   "source": [
    "I connected to Db2 by instantiating an API token which allowed me to run all of my queries through a Jupyter notebook. For the sake of streamlining the project, doing this project through the Jupyter notebooks on Watson Labs allows for all of the IBM technologies to come packaged without having to reinstall each time I run the notebook."
   ]
  },
  {
   "cell_type": "code",
   "execution_count": 2,
   "metadata": {},
   "outputs": [
    {
     "data": {
      "text/plain": [
       "'Connected: tjk69312@BLUDB'"
      ]
     },
     "execution_count": 2,
     "metadata": {},
     "output_type": "execute_result"
    }
   ],
   "source": [
    "%sql ibm_db_sa://tjk69312:mkjv%402qs5xgnc01k@dashdb-txn-sbox-yp-dal09-12.services.dal.bluemix.net:50000/BLUDB"
   ]
  },
  {
   "cell_type": "markdown",
   "metadata": {},
   "source": [
    "In Db2, I have uploaded the .csv values of all three data setsinto the database."
   ]
  },
  {
   "cell_type": "code",
   "execution_count": 3,
   "metadata": {},
   "outputs": [
    {
     "name": "stdout",
     "output_type": "stream",
     "text": [
      " * ibm_db_sa://tjk69312:***@dashdb-txn-sbox-yp-dal09-12.services.dal.bluemix.net:50000/BLUDB\n",
      "Done.\n"
     ]
    },
    {
     "data": {
      "text/html": [
       "<table>\n",
       "    <thead>\n",
       "        <tr>\n",
       "            <th>1</th>\n",
       "        </tr>\n",
       "    </thead>\n",
       "    <tbody>\n",
       "        <tr>\n",
       "            <td>533</td>\n",
       "        </tr>\n",
       "    </tbody>\n",
       "</table>"
      ],
      "text/plain": [
       "[(Decimal('533'),)]"
      ]
     },
     "execution_count": 3,
     "metadata": {},
     "output_type": "execute_result"
    }
   ],
   "source": [
    "# Verifying the connection was established with a simple query\n",
    "%sql select count(*) from CHICAGO_CRIME_DATA"
   ]
  },
  {
   "cell_type": "markdown",
   "metadata": {},
   "source": [
    "### Sample Queries"
   ]
  },
  {
   "cell_type": "markdown",
   "metadata": {},
   "source": [
    "In the next few cells, I will demonstrate some of the queries that I wrote in order to fulfill the requests for the assignment."
   ]
  },
  {
   "cell_type": "markdown",
   "metadata": {},
   "source": [
    "##### List the top 5 Community Areas by average College Enrollment [number of students]"
   ]
  },
  {
   "cell_type": "code",
   "execution_count": 4,
   "metadata": {},
   "outputs": [
    {
     "name": "stdout",
     "output_type": "stream",
     "text": [
      " * ibm_db_sa://tjk69312:***@dashdb-txn-sbox-yp-dal09-12.services.dal.bluemix.net:50000/BLUDB\n",
      "Done.\n"
     ]
    },
    {
     "data": {
      "text/html": [
       "<table>\n",
       "    <thead>\n",
       "        <tr>\n",
       "            <th>community_area_name</th>\n",
       "            <th>average_college_enrollment</th>\n",
       "        </tr>\n",
       "    </thead>\n",
       "    <tbody>\n",
       "        <tr>\n",
       "            <td>ARCHER HEIGHTS</td>\n",
       "            <td>2411.500000</td>\n",
       "        </tr>\n",
       "        <tr>\n",
       "            <td>MONTCLARE</td>\n",
       "            <td>1317.000000</td>\n",
       "        </tr>\n",
       "        <tr>\n",
       "            <td>WEST ELSDON</td>\n",
       "            <td>1233.333333</td>\n",
       "        </tr>\n",
       "        <tr>\n",
       "            <td>BRIGHTON PARK</td>\n",
       "            <td>1205.875000</td>\n",
       "        </tr>\n",
       "        <tr>\n",
       "            <td>BELMONT CRAGIN</td>\n",
       "            <td>1198.833333</td>\n",
       "        </tr>\n",
       "    </tbody>\n",
       "</table>"
      ],
      "text/plain": [
       "[('ARCHER HEIGHTS', Decimal('2411.500000')),\n",
       " ('MONTCLARE', Decimal('1317.000000')),\n",
       " ('WEST ELSDON', Decimal('1233.333333')),\n",
       " ('BRIGHTON PARK', Decimal('1205.875000')),\n",
       " ('BELMONT CRAGIN', Decimal('1198.833333'))]"
      ]
     },
     "execution_count": 4,
     "metadata": {},
     "output_type": "execute_result"
    }
   ],
   "source": [
    "%sql select COMMUNITY_AREA_NAME, avg(COLLEGE_ENROLLMENT) \\\n",
    "as AVERAGE_COLLEGE_ENROLLMENT \\\n",
    "from CHICAGO_PUBLIC_SCHOOLS \\\n",
    "group by COMMUNITY_AREA_NAME \\\n",
    "order by avg(COLLEGE_ENROLLMENT) desc limit 5"
   ]
  },
  {
   "cell_type": "markdown",
   "metadata": {},
   "source": [
    "##### Use a sub-query to determine which Community Area has the least value for school Safety Score?"
   ]
  },
  {
   "cell_type": "code",
   "execution_count": 5,
   "metadata": {},
   "outputs": [
    {
     "name": "stdout",
     "output_type": "stream",
     "text": [
      " * ibm_db_sa://tjk69312:***@dashdb-txn-sbox-yp-dal09-12.services.dal.bluemix.net:50000/BLUDB\n",
      "Done.\n"
     ]
    },
    {
     "data": {
      "text/html": [
       "<table>\n",
       "    <thead>\n",
       "        <tr>\n",
       "            <th>community_area_number</th>\n",
       "            <th>community_area_name</th>\n",
       "            <th>safety_score</th>\n",
       "        </tr>\n",
       "    </thead>\n",
       "    <tbody>\n",
       "        <tr>\n",
       "            <td>40</td>\n",
       "            <td>WASHINGTON PARK</td>\n",
       "            <td>1</td>\n",
       "        </tr>\n",
       "    </tbody>\n",
       "</table>"
      ],
      "text/plain": [
       "[(40, 'WASHINGTON PARK', 1)]"
      ]
     },
     "execution_count": 5,
     "metadata": {},
     "output_type": "execute_result"
    }
   ],
   "source": [
    "%sql select COMMUNITY_AREA_NUMBER, COMMUNITY_AREA_NAME, SAFETY_SCORE \\\n",
    "from CHICAGO_PUBLIC_SCHOOLS \\\n",
    "where SAFETY_SCORE = (select min(SAFETY_SCORE) from CHICAGO_PUBLIC_SCHOOLS)"
   ]
  },
  {
   "cell_type": "markdown",
   "metadata": {},
   "source": [
    "##### Which schools in Community Areas 10 to 15 are healthy school certified?"
   ]
  },
  {
   "cell_type": "code",
   "execution_count": 6,
   "metadata": {},
   "outputs": [
    {
     "name": "stdout",
     "output_type": "stream",
     "text": [
      " * ibm_db_sa://tjk69312:***@dashdb-txn-sbox-yp-dal09-12.services.dal.bluemix.net:50000/BLUDB\n",
      "Done.\n"
     ]
    },
    {
     "data": {
      "text/html": [
       "<table>\n",
       "    <thead>\n",
       "        <tr>\n",
       "            <th>name_of_school</th>\n",
       "            <th>community_area_number</th>\n",
       "        </tr>\n",
       "    </thead>\n",
       "    <tbody>\n",
       "        <tr>\n",
       "            <td>Rufus M Hitch Elementary School</td>\n",
       "            <td>10</td>\n",
       "        </tr>\n",
       "    </tbody>\n",
       "</table>"
      ],
      "text/plain": [
       "[('Rufus M Hitch Elementary School', 10)]"
      ]
     },
     "execution_count": 6,
     "metadata": {},
     "output_type": "execute_result"
    }
   ],
   "source": [
    "%sql select NAME_OF_SCHOOL, COMMUNITY_AREA_NUMBER from CHICAGO_PUBLIC_SCHOOLS \\\n",
    "where COMMUNITY_AREA_NUMBER between 10 and 15 \\\n",
    "and HEALTHY_SCHOOL_CERTIFIED = 'Yes'"
   ]
  },
  {
   "cell_type": "markdown",
   "metadata": {},
   "source": [
    "### Using Pandas Dataframes"
   ]
  },
  {
   "cell_type": "code",
   "execution_count": 7,
   "metadata": {},
   "outputs": [],
   "source": [
    "# Run matplotlib to graph some of the schools on scatter plot\n",
    "# Centered around Community_area, 77 different neighborhoods\n",
    "# From CHICAGO_PUBLIC_SCHOOLS: Safety_Score, Rate_of_Misconduct, College_Enrollment_rate\n",
    "# From CENSUS_DATA: Percent_of_housing_crowded, Perent_of_households_below_poverty, per_capita_income, hardship_index\n",
    "# From CHICAGO_CRIME_DATA: Community"
   ]
  },
  {
   "cell_type": "markdown",
   "metadata": {},
   "source": [
    "I will use the Pandas library to organize the data within the notebook environment. For the visualization of the data, I will be using the Python libraries Matplotlib and Numpy."
   ]
  },
  {
   "cell_type": "code",
   "execution_count": 8,
   "metadata": {},
   "outputs": [],
   "source": [
    "import pandas as pd\n",
    "import matplotlib.pyplot as plt\n",
    "import numpy as np"
   ]
  },
  {
   "cell_type": "markdown",
   "metadata": {},
   "source": [
    "Then I created an localized instance of the data within the notebook for each data set."
   ]
  },
  {
   "cell_type": "code",
   "execution_count": 9,
   "metadata": {},
   "outputs": [],
   "source": [
    "CENSUS_DATA_local = pd.read_csv('https://cf-courses-data.s3.us.cloud-object-storage.appdomain.cloud/IBMDeveloperSkillsNetwork-DB0201EN-SkillsNetwork/labs/FinalModule_Coursera/data/Census_Data_-_Selected_socioeconomic_indicators_in_Chicago__2008___2012-v2.csv')"
   ]
  },
  {
   "cell_type": "code",
   "execution_count": 10,
   "metadata": {},
   "outputs": [],
   "source": [
    "CHICAGO_PUBLIC_SCHOOLS_local = pd.read_csv('https://cf-courses-data.s3.us.cloud-object-storage.appdomain.cloud/IBMDeveloperSkillsNetwork-DB0201EN-SkillsNetwork/labs/FinalModule_Coursera/data/Chicago_Public_Schools_-_Progress_Report_Cards__2011-2012-v3.csv')"
   ]
  },
  {
   "cell_type": "code",
   "execution_count": 11,
   "metadata": {},
   "outputs": [],
   "source": [
    "CHICAGO_CRIME_DATA_local = pd.read_csv('https://cf-courses-data.s3.us.cloud-object-storage.appdomain.cloud/IBMDeveloperSkillsNetwork-DB0201EN-SkillsNetwork/labs/FinalModule_Coursera/data/Chicago_Crime_Data-v2.csv')"
   ]
  },
  {
   "cell_type": "markdown",
   "metadata": {},
   "source": [
    "To normalize the column names, I used string methods. Making the columns more uniform allows for less headaches down the road. Also, lowercase columns are easier on my eyes."
   ]
  },
  {
   "cell_type": "code",
   "execution_count": 12,
   "metadata": {},
   "outputs": [],
   "source": [
    "CENSUS_DATA_local.columns = CENSUS_DATA_local.columns.str.replace(\" \", \"_\")\n",
    "CENSUS_DATA_local.columns = CENSUS_DATA_local.columns.str.lower()\n",
    "CHICAGO_PUBLIC_SCHOOLS_local.columns = CHICAGO_PUBLIC_SCHOOLS_local.columns.str.replace(\" \", \"_\")\n",
    "CHICAGO_PUBLIC_SCHOOLS_local.columns = CHICAGO_PUBLIC_SCHOOLS_local.columns.str.replace(\"%\", \"\")\n",
    "CHICAGO_PUBLIC_SCHOOLS_local.columns = CHICAGO_PUBLIC_SCHOOLS_local.columns.str.replace(\",\", \"\")\n",
    "CHICAGO_PUBLIC_SCHOOLS_local.columns = CHICAGO_PUBLIC_SCHOOLS_local.columns.str.lower()\n",
    "CHICAGO_CRIME_DATA_local.columns = CHICAGO_CRIME_DATA_local.columns.str.replace(\" \", \"_\")\n",
    "CHICAGO_CRIME_DATA_local.columns = CHICAGO_CRIME_DATA_local.columns.str.lower()"
   ]
  },
  {
   "cell_type": "markdown",
   "metadata": {},
   "source": [
    "To simplify the code moving forward, I decided to shorten the names when creating Pandas dataframes."
   ]
  },
  {
   "cell_type": "code",
   "execution_count": 13,
   "metadata": {},
   "outputs": [],
   "source": [
    "df1 = pd.DataFrame(data=CENSUS_DATA_local)\n",
    "df2 = pd.DataFrame(data=CHICAGO_PUBLIC_SCHOOLS_local)\n",
    "df3 = pd.DataFrame(data=CHICAGO_CRIME_DATA_local)"
   ]
  },
  {
   "cell_type": "markdown",
   "metadata": {},
   "source": [
    "Now that the dataframes are prepared and more easily accessed through localized instances within Pandas dataframes, listing out the column names here will allow comparisons across separate data frames."
   ]
  },
  {
   "cell_type": "code",
   "execution_count": 14,
   "metadata": {},
   "outputs": [
    {
     "name": "stdout",
     "output_type": "stream",
     "text": [
      "Census Data (df1) Columns\n",
      "['community_area_number', 'community_area_name', 'percent_of_housing_crowded', 'percent_households_below_poverty', 'percent_aged_16+_unemployed', 'percent_aged_25+_without_high_school_diploma', 'percent_aged_under_18_or_over_64', 'per_capita_income_', 'hardship_index']\n"
     ]
    }
   ],
   "source": [
    "print(\"Census Data (df1) Columns\")\n",
    "print(df1.columns.tolist())"
   ]
  },
  {
   "cell_type": "code",
   "execution_count": 15,
   "metadata": {},
   "outputs": [
    {
     "name": "stdout",
     "output_type": "stream",
     "text": [
      "Chicago Public Schools (df2) Columns\n",
      "['school_id', 'name_of_school', 'elementary_middle_or_high_school', 'street_address', 'city', 'state', 'zip_code', 'phone_number', 'link_', 'network_manager', 'collaborative_name', 'adequate_yearly_progress_made?_', 'track_schedule', 'cps_performance_policy_status', 'cps_performance_policy_level', 'healthy_school_certified', 'safety_icon_', 'safety_score', 'family_involvement_icon', 'family_involvement_score', 'environment_icon_', 'environment_score', 'instruction_icon_', 'instruction_score', 'leaders_icon_', 'leaders_score_', 'teachers_icon_', 'teachers_score', 'parent_engagement_icon_', 'parent_engagement_score', 'parent_environment_icon', 'parent_environment_score', 'average_student_attendance', 'rate_of_misconducts_(per_100_students)_', 'average_teacher_attendance', 'individualized_education_program_compliance_rate_', 'pk-2_literacy_', 'pk-2_math_', 'gr3-5_grade_level_math_', 'gr3-5_grade_level_read__', 'gr3-5_keep_pace_read_', 'gr3-5_keep_pace_math_', 'gr6-8_grade_level_math_', 'gr6-8_grade_level_read_', 'gr6-8_keep_pace_math', 'gr6-8_keep_pace_read_', 'gr-8_explore_math_', 'gr-8_explore_read_', 'isat_exceeding_math_', 'isat_exceeding_reading__', 'isat_value_add_math', 'isat_value_add_read', 'isat_value_add_color_math', 'isat_value_add_color_read', 'students_taking__algebra_', 'students_passing__algebra_', '9th_grade_explore_(2009)_', '9th_grade_explore_(2010)_', '10th_grade_plan_(2009)_', '10th_grade_plan_(2010)_', 'net_change_explore_and_plan', '11th_grade_average_act_(2011)_', 'net_change_plan_and_act', 'college_eligibility_', 'graduation_rate_', 'college_enrollment_rate_', 'college_enrollment', 'general_services_route_', 'freshman_on_track_rate_', 'x_coordinate', 'y_coordinate', 'latitude', 'longitude', 'community_area_number', 'community_area_name', 'ward', 'police_district', 'location']\n"
     ]
    }
   ],
   "source": [
    "print(\"Chicago Public Schools (df2) Columns\")\n",
    "print(df2.columns.tolist())"
   ]
  },
  {
   "cell_type": "code",
   "execution_count": 16,
   "metadata": {},
   "outputs": [
    {
     "name": "stdout",
     "output_type": "stream",
     "text": [
      "Chicago Crime Data (df3) Columns\n",
      "['id', 'case_number', 'date', 'block', 'iucr', 'primary_type', 'description', 'location_description', 'arrest', 'domestic', 'beat', 'district', 'ward', 'community_area_number', 'fbicode', 'x_coordinate', 'y_coordinate', 'year', 'updatedon', 'latitude', 'longitude', 'location']\n"
     ]
    }
   ],
   "source": [
    "print(\"Chicago Crime Data (df3) Columns\")\n",
    "print(df3.columns.tolist())"
   ]
  },
  {
   "cell_type": "markdown",
   "metadata": {},
   "source": [
    "I only wish to look at a subset of the columns from all of the dataframes, so I will used the .copy() method to create abridged dataframes. Since I am being loose with naming conventions, I will make the dataframe titles more descriptive."
   ]
  },
  {
   "cell_type": "code",
   "execution_count": 17,
   "metadata": {},
   "outputs": [
    {
     "data": {
      "text/html": [
       "<div>\n",
       "<style scoped>\n",
       "    .dataframe tbody tr th:only-of-type {\n",
       "        vertical-align: middle;\n",
       "    }\n",
       "\n",
       "    .dataframe tbody tr th {\n",
       "        vertical-align: top;\n",
       "    }\n",
       "\n",
       "    .dataframe thead th {\n",
       "        text-align: right;\n",
       "    }\n",
       "</style>\n",
       "<table border=\"1\" class=\"dataframe\">\n",
       "  <thead>\n",
       "    <tr style=\"text-align: right;\">\n",
       "      <th></th>\n",
       "      <th>community_area_number</th>\n",
       "      <th>community_area_name</th>\n",
       "      <th>percent_of_housing_crowded</th>\n",
       "      <th>percent_households_below_poverty</th>\n",
       "      <th>per_capita_income_</th>\n",
       "      <th>hardship_index</th>\n",
       "    </tr>\n",
       "  </thead>\n",
       "  <tbody>\n",
       "    <tr>\n",
       "      <th>0</th>\n",
       "      <td>1.0</td>\n",
       "      <td>Rogers Park</td>\n",
       "      <td>7.7</td>\n",
       "      <td>23.6</td>\n",
       "      <td>23939</td>\n",
       "      <td>39.0</td>\n",
       "    </tr>\n",
       "    <tr>\n",
       "      <th>1</th>\n",
       "      <td>2.0</td>\n",
       "      <td>West Ridge</td>\n",
       "      <td>7.8</td>\n",
       "      <td>17.2</td>\n",
       "      <td>23040</td>\n",
       "      <td>46.0</td>\n",
       "    </tr>\n",
       "    <tr>\n",
       "      <th>2</th>\n",
       "      <td>3.0</td>\n",
       "      <td>Uptown</td>\n",
       "      <td>3.8</td>\n",
       "      <td>24.0</td>\n",
       "      <td>35787</td>\n",
       "      <td>20.0</td>\n",
       "    </tr>\n",
       "    <tr>\n",
       "      <th>3</th>\n",
       "      <td>4.0</td>\n",
       "      <td>Lincoln Square</td>\n",
       "      <td>3.4</td>\n",
       "      <td>10.9</td>\n",
       "      <td>37524</td>\n",
       "      <td>17.0</td>\n",
       "    </tr>\n",
       "    <tr>\n",
       "      <th>4</th>\n",
       "      <td>5.0</td>\n",
       "      <td>North Center</td>\n",
       "      <td>0.3</td>\n",
       "      <td>7.5</td>\n",
       "      <td>57123</td>\n",
       "      <td>6.0</td>\n",
       "    </tr>\n",
       "    <tr>\n",
       "      <th>...</th>\n",
       "      <td>...</td>\n",
       "      <td>...</td>\n",
       "      <td>...</td>\n",
       "      <td>...</td>\n",
       "      <td>...</td>\n",
       "      <td>...</td>\n",
       "    </tr>\n",
       "    <tr>\n",
       "      <th>73</th>\n",
       "      <td>74.0</td>\n",
       "      <td>Mount Greenwood</td>\n",
       "      <td>1.0</td>\n",
       "      <td>3.4</td>\n",
       "      <td>34381</td>\n",
       "      <td>16.0</td>\n",
       "    </tr>\n",
       "    <tr>\n",
       "      <th>74</th>\n",
       "      <td>75.0</td>\n",
       "      <td>Morgan Park</td>\n",
       "      <td>0.8</td>\n",
       "      <td>13.2</td>\n",
       "      <td>27149</td>\n",
       "      <td>30.0</td>\n",
       "    </tr>\n",
       "    <tr>\n",
       "      <th>75</th>\n",
       "      <td>76.0</td>\n",
       "      <td>O'Hare</td>\n",
       "      <td>3.6</td>\n",
       "      <td>15.4</td>\n",
       "      <td>25828</td>\n",
       "      <td>24.0</td>\n",
       "    </tr>\n",
       "    <tr>\n",
       "      <th>76</th>\n",
       "      <td>77.0</td>\n",
       "      <td>Edgewater</td>\n",
       "      <td>4.1</td>\n",
       "      <td>18.2</td>\n",
       "      <td>33385</td>\n",
       "      <td>19.0</td>\n",
       "    </tr>\n",
       "    <tr>\n",
       "      <th>77</th>\n",
       "      <td>NaN</td>\n",
       "      <td>CHICAGO</td>\n",
       "      <td>4.7</td>\n",
       "      <td>19.7</td>\n",
       "      <td>28202</td>\n",
       "      <td>NaN</td>\n",
       "    </tr>\n",
       "  </tbody>\n",
       "</table>\n",
       "<p>78 rows × 6 columns</p>\n",
       "</div>"
      ],
      "text/plain": [
       "    community_area_number community_area_name  percent_of_housing_crowded  \\\n",
       "0                     1.0         Rogers Park                         7.7   \n",
       "1                     2.0          West Ridge                         7.8   \n",
       "2                     3.0              Uptown                         3.8   \n",
       "3                     4.0      Lincoln Square                         3.4   \n",
       "4                     5.0        North Center                         0.3   \n",
       "..                    ...                 ...                         ...   \n",
       "73                   74.0     Mount Greenwood                         1.0   \n",
       "74                   75.0         Morgan Park                         0.8   \n",
       "75                   76.0              O'Hare                         3.6   \n",
       "76                   77.0           Edgewater                         4.1   \n",
       "77                    NaN             CHICAGO                         4.7   \n",
       "\n",
       "    percent_households_below_poverty  per_capita_income_  hardship_index  \n",
       "0                               23.6               23939            39.0  \n",
       "1                               17.2               23040            46.0  \n",
       "2                               24.0               35787            20.0  \n",
       "3                               10.9               37524            17.0  \n",
       "4                                7.5               57123             6.0  \n",
       "..                               ...                 ...             ...  \n",
       "73                               3.4               34381            16.0  \n",
       "74                              13.2               27149            30.0  \n",
       "75                              15.4               25828            24.0  \n",
       "76                              18.2               33385            19.0  \n",
       "77                              19.7               28202             NaN  \n",
       "\n",
       "[78 rows x 6 columns]"
      ]
     },
     "execution_count": 17,
     "metadata": {},
     "output_type": "execute_result"
    }
   ],
   "source": [
    "census = df1[['community_area_number', 'community_area_name', 'percent_of_housing_crowded', 'percent_households_below_poverty', 'per_capita_income_', 'hardship_index']].copy()\n",
    "census"
   ]
  },
  {
   "cell_type": "code",
   "execution_count": 18,
   "metadata": {},
   "outputs": [
    {
     "data": {
      "text/html": [
       "<div>\n",
       "<style scoped>\n",
       "    .dataframe tbody tr th:only-of-type {\n",
       "        vertical-align: middle;\n",
       "    }\n",
       "\n",
       "    .dataframe tbody tr th {\n",
       "        vertical-align: top;\n",
       "    }\n",
       "\n",
       "    .dataframe thead th {\n",
       "        text-align: right;\n",
       "    }\n",
       "</style>\n",
       "<table border=\"1\" class=\"dataframe\">\n",
       "  <thead>\n",
       "    <tr style=\"text-align: right;\">\n",
       "      <th></th>\n",
       "      <th>community_area_number</th>\n",
       "      <th>community_area_name</th>\n",
       "      <th>police_district</th>\n",
       "      <th>graduation_rate_</th>\n",
       "      <th>college_enrollment_rate_</th>\n",
       "      <th>college_enrollment</th>\n",
       "      <th>safety_score</th>\n",
       "      <th>family_involvement_score</th>\n",
       "    </tr>\n",
       "  </thead>\n",
       "  <tbody>\n",
       "    <tr>\n",
       "      <th>0</th>\n",
       "      <td>7</td>\n",
       "      <td>LINCOLN PARK</td>\n",
       "      <td>18</td>\n",
       "      <td>NDA</td>\n",
       "      <td>NDA</td>\n",
       "      <td>813</td>\n",
       "      <td>99.0</td>\n",
       "      <td>99</td>\n",
       "    </tr>\n",
       "    <tr>\n",
       "      <th>1</th>\n",
       "      <td>43</td>\n",
       "      <td>SOUTH SHORE</td>\n",
       "      <td>4</td>\n",
       "      <td>NDA</td>\n",
       "      <td>NDA</td>\n",
       "      <td>521</td>\n",
       "      <td>54.0</td>\n",
       "      <td>66</td>\n",
       "    </tr>\n",
       "    <tr>\n",
       "      <th>2</th>\n",
       "      <td>70</td>\n",
       "      <td>ASHBURN</td>\n",
       "      <td>8</td>\n",
       "      <td>NDA</td>\n",
       "      <td>NDA</td>\n",
       "      <td>1324</td>\n",
       "      <td>61.0</td>\n",
       "      <td>NDA</td>\n",
       "    </tr>\n",
       "    <tr>\n",
       "      <th>3</th>\n",
       "      <td>61</td>\n",
       "      <td>NEW CITY</td>\n",
       "      <td>9</td>\n",
       "      <td>NDA</td>\n",
       "      <td>NDA</td>\n",
       "      <td>556</td>\n",
       "      <td>56.0</td>\n",
       "      <td>44</td>\n",
       "    </tr>\n",
       "    <tr>\n",
       "      <th>4</th>\n",
       "      <td>34</td>\n",
       "      <td>ARMOUR SQUARE</td>\n",
       "      <td>9</td>\n",
       "      <td>NDA</td>\n",
       "      <td>NDA</td>\n",
       "      <td>302</td>\n",
       "      <td>49.0</td>\n",
       "      <td>60</td>\n",
       "    </tr>\n",
       "    <tr>\n",
       "      <th>...</th>\n",
       "      <td>...</td>\n",
       "      <td>...</td>\n",
       "      <td>...</td>\n",
       "      <td>...</td>\n",
       "      <td>...</td>\n",
       "      <td>...</td>\n",
       "      <td>...</td>\n",
       "      <td>...</td>\n",
       "    </tr>\n",
       "    <tr>\n",
       "      <th>561</th>\n",
       "      <td>61</td>\n",
       "      <td>NEW CITY</td>\n",
       "      <td>9</td>\n",
       "      <td>NDA</td>\n",
       "      <td>NDA</td>\n",
       "      <td>462</td>\n",
       "      <td>32.0</td>\n",
       "      <td>NDA</td>\n",
       "    </tr>\n",
       "    <tr>\n",
       "      <th>562</th>\n",
       "      <td>40</td>\n",
       "      <td>WASHINGTON PARK</td>\n",
       "      <td>2</td>\n",
       "      <td>NDA</td>\n",
       "      <td>NDA</td>\n",
       "      <td>371</td>\n",
       "      <td>13.0</td>\n",
       "      <td>49</td>\n",
       "    </tr>\n",
       "    <tr>\n",
       "      <th>563</th>\n",
       "      <td>22</td>\n",
       "      <td>LOGAN SQUARE</td>\n",
       "      <td>25</td>\n",
       "      <td>NDA</td>\n",
       "      <td>NDA</td>\n",
       "      <td>748</td>\n",
       "      <td>41.0</td>\n",
       "      <td>NDA</td>\n",
       "    </tr>\n",
       "    <tr>\n",
       "      <th>564</th>\n",
       "      <td>42</td>\n",
       "      <td>WOODLAWN</td>\n",
       "      <td>3</td>\n",
       "      <td>NDA</td>\n",
       "      <td>NDA</td>\n",
       "      <td>238</td>\n",
       "      <td>70.0</td>\n",
       "      <td>NDA</td>\n",
       "    </tr>\n",
       "    <tr>\n",
       "      <th>565</th>\n",
       "      <td>30</td>\n",
       "      <td>SOUTH LAWNDALE</td>\n",
       "      <td>10</td>\n",
       "      <td>69.4</td>\n",
       "      <td>48.1</td>\n",
       "      <td>382</td>\n",
       "      <td>51.0</td>\n",
       "      <td>33</td>\n",
       "    </tr>\n",
       "  </tbody>\n",
       "</table>\n",
       "<p>566 rows × 8 columns</p>\n",
       "</div>"
      ],
      "text/plain": [
       "     community_area_number community_area_name  police_district  \\\n",
       "0                        7        LINCOLN PARK               18   \n",
       "1                       43         SOUTH SHORE                4   \n",
       "2                       70             ASHBURN                8   \n",
       "3                       61            NEW CITY                9   \n",
       "4                       34       ARMOUR SQUARE                9   \n",
       "..                     ...                 ...              ...   \n",
       "561                     61            NEW CITY                9   \n",
       "562                     40     WASHINGTON PARK                2   \n",
       "563                     22        LOGAN SQUARE               25   \n",
       "564                     42            WOODLAWN                3   \n",
       "565                     30      SOUTH LAWNDALE               10   \n",
       "\n",
       "    graduation_rate_ college_enrollment_rate_  college_enrollment  \\\n",
       "0                NDA                      NDA                 813   \n",
       "1                NDA                      NDA                 521   \n",
       "2                NDA                      NDA                1324   \n",
       "3                NDA                      NDA                 556   \n",
       "4                NDA                      NDA                 302   \n",
       "..               ...                      ...                 ...   \n",
       "561              NDA                      NDA                 462   \n",
       "562              NDA                      NDA                 371   \n",
       "563              NDA                      NDA                 748   \n",
       "564              NDA                      NDA                 238   \n",
       "565             69.4                     48.1                 382   \n",
       "\n",
       "     safety_score family_involvement_score  \n",
       "0            99.0                       99  \n",
       "1            54.0                       66  \n",
       "2            61.0                      NDA  \n",
       "3            56.0                       44  \n",
       "4            49.0                       60  \n",
       "..            ...                      ...  \n",
       "561          32.0                      NDA  \n",
       "562          13.0                       49  \n",
       "563          41.0                      NDA  \n",
       "564          70.0                      NDA  \n",
       "565          51.0                       33  \n",
       "\n",
       "[566 rows x 8 columns]"
      ]
     },
     "execution_count": 18,
     "metadata": {},
     "output_type": "execute_result"
    }
   ],
   "source": [
    "schools = df2[['community_area_number', 'community_area_name', 'police_district', 'graduation_rate_', 'college_enrollment_rate_', 'college_enrollment', 'safety_score', 'family_involvement_score']].copy()\n",
    "schools"
   ]
  },
  {
   "cell_type": "markdown",
   "metadata": {},
   "source": [
    "# HEAVILY UNDER CONSTRUCTION FROM THIS POINT DOWN"
   ]
  },
  {
   "cell_type": "code",
   "execution_count": 19,
   "metadata": {},
   "outputs": [
    {
     "data": {
      "text/html": [
       "<div>\n",
       "<style scoped>\n",
       "    .dataframe tbody tr th:only-of-type {\n",
       "        vertical-align: middle;\n",
       "    }\n",
       "\n",
       "    .dataframe tbody tr th {\n",
       "        vertical-align: top;\n",
       "    }\n",
       "\n",
       "    .dataframe thead th {\n",
       "        text-align: right;\n",
       "    }\n",
       "</style>\n",
       "<table border=\"1\" class=\"dataframe\">\n",
       "  <thead>\n",
       "    <tr style=\"text-align: right;\">\n",
       "      <th></th>\n",
       "      <th>id</th>\n",
       "      <th>case_number</th>\n",
       "      <th>primary_type</th>\n",
       "      <th>district</th>\n",
       "    </tr>\n",
       "    <tr>\n",
       "      <th>community_area_number</th>\n",
       "      <th></th>\n",
       "      <th></th>\n",
       "      <th></th>\n",
       "      <th></th>\n",
       "    </tr>\n",
       "  </thead>\n",
       "  <tbody>\n",
       "    <tr>\n",
       "      <th>58.0</th>\n",
       "      <td>3512276</td>\n",
       "      <td>HK587712</td>\n",
       "      <td>THEFT</td>\n",
       "      <td>9</td>\n",
       "    </tr>\n",
       "    <tr>\n",
       "      <th>23.0</th>\n",
       "      <td>3406613</td>\n",
       "      <td>HK456306</td>\n",
       "      <td>THEFT</td>\n",
       "      <td>11</td>\n",
       "    </tr>\n",
       "    <tr>\n",
       "      <th>38.0</th>\n",
       "      <td>8002131</td>\n",
       "      <td>HT233595</td>\n",
       "      <td>THEFT</td>\n",
       "      <td>2</td>\n",
       "    </tr>\n",
       "    <tr>\n",
       "      <th>46.0</th>\n",
       "      <td>7903289</td>\n",
       "      <td>HT133522</td>\n",
       "      <td>THEFT</td>\n",
       "      <td>4</td>\n",
       "    </tr>\n",
       "    <tr>\n",
       "      <th>66.0</th>\n",
       "      <td>10402076</td>\n",
       "      <td>HZ138551</td>\n",
       "      <td>THEFT</td>\n",
       "      <td>8</td>\n",
       "    </tr>\n",
       "    <tr>\n",
       "      <th>...</th>\n",
       "      <td>...</td>\n",
       "      <td>...</td>\n",
       "      <td>...</td>\n",
       "      <td>...</td>\n",
       "    </tr>\n",
       "    <tr>\n",
       "      <th>46.0</th>\n",
       "      <td>10453948</td>\n",
       "      <td>HZ192829</td>\n",
       "      <td>HUMAN TRAFFICKING</td>\n",
       "      <td>4</td>\n",
       "    </tr>\n",
       "    <tr>\n",
       "      <th>28.0</th>\n",
       "      <td>10397129</td>\n",
       "      <td>HZ133234</td>\n",
       "      <td>NON - CRIMINAL</td>\n",
       "      <td>1</td>\n",
       "    </tr>\n",
       "    <tr>\n",
       "      <th>71.0</th>\n",
       "      <td>3269495</td>\n",
       "      <td>HJ747227</td>\n",
       "      <td>RITUALISM</td>\n",
       "      <td>6</td>\n",
       "    </tr>\n",
       "    <tr>\n",
       "      <th>23.0</th>\n",
       "      <td>10840565</td>\n",
       "      <td>JA143710</td>\n",
       "      <td>NON-CRIMINAL (SUBJECT SPECIFIED)</td>\n",
       "      <td>11</td>\n",
       "    </tr>\n",
       "    <tr>\n",
       "      <th>NaN</th>\n",
       "      <td>1326195</td>\n",
       "      <td>G021609</td>\n",
       "      <td>DOMESTIC VIOLENCE</td>\n",
       "      <td>4</td>\n",
       "    </tr>\n",
       "  </tbody>\n",
       "</table>\n",
       "<p>533 rows × 4 columns</p>\n",
       "</div>"
      ],
      "text/plain": [
       "                             id case_number                      primary_type  \\\n",
       "community_area_number                                                           \n",
       "58.0                    3512276    HK587712                             THEFT   \n",
       "23.0                    3406613    HK456306                             THEFT   \n",
       "38.0                    8002131    HT233595                             THEFT   \n",
       "46.0                    7903289    HT133522                             THEFT   \n",
       "66.0                   10402076    HZ138551                             THEFT   \n",
       "...                         ...         ...                               ...   \n",
       "46.0                   10453948    HZ192829                 HUMAN TRAFFICKING   \n",
       "28.0                   10397129    HZ133234                    NON - CRIMINAL   \n",
       "71.0                    3269495    HJ747227                         RITUALISM   \n",
       "23.0                   10840565    JA143710  NON-CRIMINAL (SUBJECT SPECIFIED)   \n",
       "NaN                     1326195     G021609                 DOMESTIC VIOLENCE   \n",
       "\n",
       "                       district  \n",
       "community_area_number            \n",
       "58.0                          9  \n",
       "23.0                         11  \n",
       "38.0                          2  \n",
       "46.0                          4  \n",
       "66.0                          8  \n",
       "...                         ...  \n",
       "46.0                          4  \n",
       "28.0                          1  \n",
       "71.0                          6  \n",
       "23.0                         11  \n",
       "NaN                           4  \n",
       "\n",
       "[533 rows x 4 columns]"
      ]
     },
     "execution_count": 19,
     "metadata": {},
     "output_type": "execute_result"
    }
   ],
   "source": [
    "# FIX, FIRST PRIORITY\n",
    "# Alter dataframe so community_area_number is index and counts are the only column\n",
    "crime = df3[['id', 'case_number', 'primary_type', 'community_area_number', 'district']].copy()\n",
    "crime = crime.set_index('community_area_number')\n",
    "crime"
   ]
  },
  {
   "cell_type": "code",
   "execution_count": 22,
   "metadata": {},
   "outputs": [
    {
     "data": {
      "text/html": [
       "<div>\n",
       "<style scoped>\n",
       "    .dataframe tbody tr th:only-of-type {\n",
       "        vertical-align: middle;\n",
       "    }\n",
       "\n",
       "    .dataframe tbody tr th {\n",
       "        vertical-align: top;\n",
       "    }\n",
       "\n",
       "    .dataframe thead th {\n",
       "        text-align: right;\n",
       "    }\n",
       "</style>\n",
       "<table border=\"1\" class=\"dataframe\">\n",
       "  <thead>\n",
       "    <tr style=\"text-align: right;\">\n",
       "      <th></th>\n",
       "      <th>community_area_number</th>\n",
       "      <th>community_area_name</th>\n",
       "      <th>percent_of_housing_crowded</th>\n",
       "      <th>percent_households_below_poverty</th>\n",
       "      <th>per_capita_income_</th>\n",
       "      <th>hardship_index</th>\n",
       "      <th>police_district</th>\n",
       "      <th>graduation_rate_</th>\n",
       "      <th>college_enrollment_rate_</th>\n",
       "      <th>college_enrollment</th>\n",
       "      <th>safety_score</th>\n",
       "      <th>family_involvement_score</th>\n",
       "      <th>id</th>\n",
       "      <th>case_number</th>\n",
       "      <th>primary_type</th>\n",
       "      <th>district</th>\n",
       "    </tr>\n",
       "  </thead>\n",
       "  <tbody>\n",
       "    <tr>\n",
       "      <th>0.0</th>\n",
       "      <td>1.0</td>\n",
       "      <td>Rogers Park</td>\n",
       "      <td>7.7</td>\n",
       "      <td>23.6</td>\n",
       "      <td>23939.0</td>\n",
       "      <td>39.0</td>\n",
       "      <td>NaN</td>\n",
       "      <td>NaN</td>\n",
       "      <td>NaN</td>\n",
       "      <td>NaN</td>\n",
       "      <td>NaN</td>\n",
       "      <td>NaN</td>\n",
       "      <td>NaN</td>\n",
       "      <td>NaN</td>\n",
       "      <td>NaN</td>\n",
       "      <td>NaN</td>\n",
       "    </tr>\n",
       "    <tr>\n",
       "      <th>1.0</th>\n",
       "      <td>2.0</td>\n",
       "      <td>West Ridge</td>\n",
       "      <td>7.8</td>\n",
       "      <td>17.2</td>\n",
       "      <td>23040.0</td>\n",
       "      <td>46.0</td>\n",
       "      <td>NaN</td>\n",
       "      <td>NaN</td>\n",
       "      <td>NaN</td>\n",
       "      <td>NaN</td>\n",
       "      <td>NaN</td>\n",
       "      <td>NaN</td>\n",
       "      <td>NaN</td>\n",
       "      <td>NaN</td>\n",
       "      <td>NaN</td>\n",
       "      <td>NaN</td>\n",
       "    </tr>\n",
       "    <tr>\n",
       "      <th>2.0</th>\n",
       "      <td>3.0</td>\n",
       "      <td>Uptown</td>\n",
       "      <td>3.8</td>\n",
       "      <td>24.0</td>\n",
       "      <td>35787.0</td>\n",
       "      <td>20.0</td>\n",
       "      <td>NaN</td>\n",
       "      <td>NaN</td>\n",
       "      <td>NaN</td>\n",
       "      <td>NaN</td>\n",
       "      <td>NaN</td>\n",
       "      <td>NaN</td>\n",
       "      <td>NaN</td>\n",
       "      <td>NaN</td>\n",
       "      <td>NaN</td>\n",
       "      <td>NaN</td>\n",
       "    </tr>\n",
       "    <tr>\n",
       "      <th>3.0</th>\n",
       "      <td>4.0</td>\n",
       "      <td>Lincoln Square</td>\n",
       "      <td>3.4</td>\n",
       "      <td>10.9</td>\n",
       "      <td>37524.0</td>\n",
       "      <td>17.0</td>\n",
       "      <td>NaN</td>\n",
       "      <td>NaN</td>\n",
       "      <td>NaN</td>\n",
       "      <td>NaN</td>\n",
       "      <td>NaN</td>\n",
       "      <td>NaN</td>\n",
       "      <td>NaN</td>\n",
       "      <td>NaN</td>\n",
       "      <td>NaN</td>\n",
       "      <td>NaN</td>\n",
       "    </tr>\n",
       "    <tr>\n",
       "      <th>4.0</th>\n",
       "      <td>5.0</td>\n",
       "      <td>North Center</td>\n",
       "      <td>0.3</td>\n",
       "      <td>7.5</td>\n",
       "      <td>57123.0</td>\n",
       "      <td>6.0</td>\n",
       "      <td>NaN</td>\n",
       "      <td>NaN</td>\n",
       "      <td>NaN</td>\n",
       "      <td>NaN</td>\n",
       "      <td>NaN</td>\n",
       "      <td>NaN</td>\n",
       "      <td>NaN</td>\n",
       "      <td>NaN</td>\n",
       "      <td>NaN</td>\n",
       "      <td>NaN</td>\n",
       "    </tr>\n",
       "    <tr>\n",
       "      <th>...</th>\n",
       "      <td>...</td>\n",
       "      <td>...</td>\n",
       "      <td>...</td>\n",
       "      <td>...</td>\n",
       "      <td>...</td>\n",
       "      <td>...</td>\n",
       "      <td>...</td>\n",
       "      <td>...</td>\n",
       "      <td>...</td>\n",
       "      <td>...</td>\n",
       "      <td>...</td>\n",
       "      <td>...</td>\n",
       "      <td>...</td>\n",
       "      <td>...</td>\n",
       "      <td>...</td>\n",
       "      <td>...</td>\n",
       "    </tr>\n",
       "    <tr>\n",
       "      <th>46.0</th>\n",
       "      <td>NaN</td>\n",
       "      <td>NaN</td>\n",
       "      <td>NaN</td>\n",
       "      <td>NaN</td>\n",
       "      <td>NaN</td>\n",
       "      <td>NaN</td>\n",
       "      <td>NaN</td>\n",
       "      <td>NaN</td>\n",
       "      <td>NaN</td>\n",
       "      <td>NaN</td>\n",
       "      <td>NaN</td>\n",
       "      <td>NaN</td>\n",
       "      <td>10453948.0</td>\n",
       "      <td>HZ192829</td>\n",
       "      <td>HUMAN TRAFFICKING</td>\n",
       "      <td>4.0</td>\n",
       "    </tr>\n",
       "    <tr>\n",
       "      <th>28.0</th>\n",
       "      <td>NaN</td>\n",
       "      <td>NaN</td>\n",
       "      <td>NaN</td>\n",
       "      <td>NaN</td>\n",
       "      <td>NaN</td>\n",
       "      <td>NaN</td>\n",
       "      <td>NaN</td>\n",
       "      <td>NaN</td>\n",
       "      <td>NaN</td>\n",
       "      <td>NaN</td>\n",
       "      <td>NaN</td>\n",
       "      <td>NaN</td>\n",
       "      <td>10397129.0</td>\n",
       "      <td>HZ133234</td>\n",
       "      <td>NON - CRIMINAL</td>\n",
       "      <td>1.0</td>\n",
       "    </tr>\n",
       "    <tr>\n",
       "      <th>71.0</th>\n",
       "      <td>NaN</td>\n",
       "      <td>NaN</td>\n",
       "      <td>NaN</td>\n",
       "      <td>NaN</td>\n",
       "      <td>NaN</td>\n",
       "      <td>NaN</td>\n",
       "      <td>NaN</td>\n",
       "      <td>NaN</td>\n",
       "      <td>NaN</td>\n",
       "      <td>NaN</td>\n",
       "      <td>NaN</td>\n",
       "      <td>NaN</td>\n",
       "      <td>3269495.0</td>\n",
       "      <td>HJ747227</td>\n",
       "      <td>RITUALISM</td>\n",
       "      <td>6.0</td>\n",
       "    </tr>\n",
       "    <tr>\n",
       "      <th>23.0</th>\n",
       "      <td>NaN</td>\n",
       "      <td>NaN</td>\n",
       "      <td>NaN</td>\n",
       "      <td>NaN</td>\n",
       "      <td>NaN</td>\n",
       "      <td>NaN</td>\n",
       "      <td>NaN</td>\n",
       "      <td>NaN</td>\n",
       "      <td>NaN</td>\n",
       "      <td>NaN</td>\n",
       "      <td>NaN</td>\n",
       "      <td>NaN</td>\n",
       "      <td>10840565.0</td>\n",
       "      <td>JA143710</td>\n",
       "      <td>NON-CRIMINAL (SUBJECT SPECIFIED)</td>\n",
       "      <td>11.0</td>\n",
       "    </tr>\n",
       "    <tr>\n",
       "      <th>NaN</th>\n",
       "      <td>NaN</td>\n",
       "      <td>NaN</td>\n",
       "      <td>NaN</td>\n",
       "      <td>NaN</td>\n",
       "      <td>NaN</td>\n",
       "      <td>NaN</td>\n",
       "      <td>NaN</td>\n",
       "      <td>NaN</td>\n",
       "      <td>NaN</td>\n",
       "      <td>NaN</td>\n",
       "      <td>NaN</td>\n",
       "      <td>NaN</td>\n",
       "      <td>1326195.0</td>\n",
       "      <td>G021609</td>\n",
       "      <td>DOMESTIC VIOLENCE</td>\n",
       "      <td>4.0</td>\n",
       "    </tr>\n",
       "  </tbody>\n",
       "</table>\n",
       "<p>1177 rows × 16 columns</p>\n",
       "</div>"
      ],
      "text/plain": [
       "      community_area_number community_area_name  percent_of_housing_crowded  \\\n",
       "0.0                     1.0         Rogers Park                         7.7   \n",
       "1.0                     2.0          West Ridge                         7.8   \n",
       "2.0                     3.0              Uptown                         3.8   \n",
       "3.0                     4.0      Lincoln Square                         3.4   \n",
       "4.0                     5.0        North Center                         0.3   \n",
       "...                     ...                 ...                         ...   \n",
       "46.0                    NaN                 NaN                         NaN   \n",
       "28.0                    NaN                 NaN                         NaN   \n",
       "71.0                    NaN                 NaN                         NaN   \n",
       "23.0                    NaN                 NaN                         NaN   \n",
       "NaN                     NaN                 NaN                         NaN   \n",
       "\n",
       "      percent_households_below_poverty  per_capita_income_  hardship_index  \\\n",
       "0.0                               23.6             23939.0            39.0   \n",
       "1.0                               17.2             23040.0            46.0   \n",
       "2.0                               24.0             35787.0            20.0   \n",
       "3.0                               10.9             37524.0            17.0   \n",
       "4.0                                7.5             57123.0             6.0   \n",
       "...                                ...                 ...             ...   \n",
       "46.0                               NaN                 NaN             NaN   \n",
       "28.0                               NaN                 NaN             NaN   \n",
       "71.0                               NaN                 NaN             NaN   \n",
       "23.0                               NaN                 NaN             NaN   \n",
       "NaN                                NaN                 NaN             NaN   \n",
       "\n",
       "      police_district graduation_rate_ college_enrollment_rate_  \\\n",
       "0.0               NaN              NaN                      NaN   \n",
       "1.0               NaN              NaN                      NaN   \n",
       "2.0               NaN              NaN                      NaN   \n",
       "3.0               NaN              NaN                      NaN   \n",
       "4.0               NaN              NaN                      NaN   \n",
       "...               ...              ...                      ...   \n",
       "46.0              NaN              NaN                      NaN   \n",
       "28.0              NaN              NaN                      NaN   \n",
       "71.0              NaN              NaN                      NaN   \n",
       "23.0              NaN              NaN                      NaN   \n",
       "NaN               NaN              NaN                      NaN   \n",
       "\n",
       "      college_enrollment  safety_score family_involvement_score          id  \\\n",
       "0.0                  NaN           NaN                      NaN         NaN   \n",
       "1.0                  NaN           NaN                      NaN         NaN   \n",
       "2.0                  NaN           NaN                      NaN         NaN   \n",
       "3.0                  NaN           NaN                      NaN         NaN   \n",
       "4.0                  NaN           NaN                      NaN         NaN   \n",
       "...                  ...           ...                      ...         ...   \n",
       "46.0                 NaN           NaN                      NaN  10453948.0   \n",
       "28.0                 NaN           NaN                      NaN  10397129.0   \n",
       "71.0                 NaN           NaN                      NaN   3269495.0   \n",
       "23.0                 NaN           NaN                      NaN  10840565.0   \n",
       "NaN                  NaN           NaN                      NaN   1326195.0   \n",
       "\n",
       "     case_number                      primary_type  district  \n",
       "0.0          NaN                               NaN       NaN  \n",
       "1.0          NaN                               NaN       NaN  \n",
       "2.0          NaN                               NaN       NaN  \n",
       "3.0          NaN                               NaN       NaN  \n",
       "4.0          NaN                               NaN       NaN  \n",
       "...          ...                               ...       ...  \n",
       "46.0    HZ192829                 HUMAN TRAFFICKING       4.0  \n",
       "28.0    HZ133234                    NON - CRIMINAL       1.0  \n",
       "71.0    HJ747227                         RITUALISM       6.0  \n",
       "23.0    JA143710  NON-CRIMINAL (SUBJECT SPECIFIED)      11.0  \n",
       "NaN      G021609                 DOMESTIC VIOLENCE       4.0  \n",
       "\n",
       "[1177 rows x 16 columns]"
      ]
     },
     "execution_count": 22,
     "metadata": {},
     "output_type": "execute_result"
    }
   ],
   "source": [
    "combine = [census, schools, crime]\n",
    "df4 = pd.concat(combine)\n",
    "\n",
    "df4"
   ]
  },
  {
   "cell_type": "code",
   "execution_count": null,
   "metadata": {},
   "outputs": [],
   "source": []
  },
  {
   "cell_type": "code",
   "execution_count": null,
   "metadata": {},
   "outputs": [],
   "source": []
  },
  {
   "cell_type": "code",
   "execution_count": null,
   "metadata": {},
   "outputs": [],
   "source": [
    "# DELETE\n",
    "\n",
    "plt.plot(np.arange(10))"
   ]
  },
  {
   "cell_type": "markdown",
   "metadata": {},
   "source": [
    "### Regression Analysis"
   ]
  },
  {
   "cell_type": "code",
   "execution_count": null,
   "metadata": {},
   "outputs": [],
   "source": [
    "# Use the scatter plots from above and scikit learn to create regression lines to predict the impact of variables on others"
   ]
  },
  {
   "cell_type": "code",
   "execution_count": null,
   "metadata": {},
   "outputs": [],
   "source": []
  }
 ],
 "metadata": {
  "kernelspec": {
   "display_name": "Python",
   "language": "python",
   "name": "conda-env-python-py"
  },
  "language_info": {
   "codemirror_mode": {
    "name": "ipython",
    "version": 3
   },
   "file_extension": ".py",
   "mimetype": "text/x-python",
   "name": "python",
   "nbconvert_exporter": "python",
   "pygments_lexer": "ipython3",
   "version": "3.6.12"
  }
 },
 "nbformat": 4,
 "nbformat_minor": 4
}
